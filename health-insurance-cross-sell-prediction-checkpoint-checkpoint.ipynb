{
 "cells": [
  {
   "cell_type": "markdown",
   "metadata": {},
   "source": [
    "# Health Insurance Cross sell prediction - classification"
   ]
  },
  {
   "cell_type": "markdown",
   "metadata": {},
   "source": [
    "Waiting to receive the GPU to Tesla T4"
   ]
  },
  {
   "cell_type": "code",
   "execution_count": 1,
   "metadata": {
    "colab": {
     "base_uri": "https://localhost:8080/",
     "height": 372
    },
    "executionInfo": {
     "elapsed": 1042,
     "status": "ok",
     "timestamp": 1603341874982,
     "user": {
      "displayName": "JOEL BRAGANZA",
      "photoUrl": "https://lh3.googleusercontent.com/a-/AOh14GiCqGBF0-DSW3pXhRCQksIWmS9Sn3pZ-f1QY6NjaA=s64",
      "userId": "05558119475177792340"
     },
     "user_tz": -330
    },
    "id": "elUhRA5I7zQ5",
    "outputId": "e2cebbdd-289b-453b-a69f-cb72b0d0a0ce"
   },
   "outputs": [
    {
     "name": "stdout",
     "output_type": "stream",
     "text": [
      "Thu Oct 22 04:44:34 2020       \n",
      "+-----------------------------------------------------------------------------+\n",
      "| NVIDIA-SMI 455.23.05    Driver Version: 418.67       CUDA Version: 10.1     |\n",
      "|-------------------------------+----------------------+----------------------+\n",
      "| GPU  Name        Persistence-M| Bus-Id        Disp.A | Volatile Uncorr. ECC |\n",
      "| Fan  Temp  Perf  Pwr:Usage/Cap|         Memory-Usage | GPU-Util  Compute M. |\n",
      "|                               |                      |               MIG M. |\n",
      "|===============================+======================+======================|\n",
      "|   0  Tesla T4            Off  | 00000000:00:04.0 Off |                    0 |\n",
      "| N/A   46C    P8    11W /  70W |      0MiB / 15079MiB |      0%      Default |\n",
      "|                               |                      |                 ERR! |\n",
      "+-------------------------------+----------------------+----------------------+\n",
      "                                                                               \n",
      "+-----------------------------------------------------------------------------+\n",
      "| Processes:                                                                  |\n",
      "|  GPU   GI   CI        PID   Type   Process name                  GPU Memory |\n",
      "|        ID   ID                                                   Usage      |\n",
      "|=============================================================================|\n",
      "|  No running processes found                                                 |\n",
      "+-----------------------------------------------------------------------------+\n"
     ]
    }
   ],
   "source": [
    "# firstly, change the runtime type to GPU\n",
    "# this line is to check which GPU you have been allocated\n",
    "!nvidia-smi\n",
    "# if you want a different GPU, do 'Factory Reset Runtime' and then run this commad again.\n",
    "# Tesla T4 is the best"
   ]
  },
  {
   "cell_type": "code",
   "execution_count": 2,
   "metadata": {
    "colab": {
     "base_uri": "https://localhost:8080/",
     "height": 34
    },
    "executionInfo": {
     "elapsed": 22103,
     "status": "ok",
     "timestamp": 1603341911061,
     "user": {
      "displayName": "JOEL BRAGANZA",
      "photoUrl": "https://lh3.googleusercontent.com/a-/AOh14GiCqGBF0-DSW3pXhRCQksIWmS9Sn3pZ-f1QY6NjaA=s64",
      "userId": "05558119475177792340"
     },
     "user_tz": -330
    },
    "id": "yE4VAQmKBgMy",
    "outputId": "302a09d3-ccea-467b-e556-9ca5a3b0f5cc"
   },
   "outputs": [
    {
     "name": "stdout",
     "output_type": "stream",
     "text": [
      "Mounted at ./mount\n"
     ]
    }
   ],
   "source": [
    "from google.colab import drive\n",
    "drive.mount('./mount')"
   ]
  },
  {
   "cell_type": "markdown",
   "metadata": {},
   "source": [
    "Let's load the train & test data and look at their shapes."
   ]
  },
  {
   "cell_type": "code",
   "execution_count": 3,
   "metadata": {
    "colab": {
     "base_uri": "https://localhost:8080/",
     "height": 52
    },
    "executionInfo": {
     "elapsed": 2555,
     "status": "ok",
     "timestamp": 1603341916678,
     "user": {
      "displayName": "JOEL BRAGANZA",
      "photoUrl": "https://lh3.googleusercontent.com/a-/AOh14GiCqGBF0-DSW3pXhRCQksIWmS9Sn3pZ-f1QY6NjaA=s64",
      "userId": "05558119475177792340"
     },
     "user_tz": -330
    },
    "id": "dj6tYQo370ip",
    "outputId": "8bc60299-13c5-4117-9ba7-58d489cfa455"
   },
   "outputs": [
    {
     "name": "stdout",
     "output_type": "stream",
     "text": [
      "(381109, 12)\n",
      "(127037, 11)\n"
     ]
    }
   ],
   "source": [
    "# health-insurance-cross-sell-prediction\n",
    "import pandas as pd\n",
    "import numpy as np\n",
    "df= pd.read_csv(r'mount/My Drive/health insurance/train.csv')\n",
    "#df= pd.read_csv(r'D:\\joel\\UDEMY -\\datasets and codes\\Notebooks\\.ipynb_checkpoints\\health-insurance-cross-sell-prediction\\train.csv')\n",
    "df_test = pd.read_csv(r'mount/My Drive/health insurance/test.csv')\n",
    "print (df.shape)\n",
    "print (df_test.shape)"
   ]
  },
  {
   "cell_type": "code",
   "execution_count": null,
   "metadata": {
    "id": "LPP_FL517r-P",
    "outputId": "183b3fbb-f8ef-47ab-a6e7-97aa56d1fab5"
   },
   "outputs": [
    {
     "data": {
      "text/html": [
       "<div>\n",
       "<style scoped>\n",
       "    .dataframe tbody tr th:only-of-type {\n",
       "        vertical-align: middle;\n",
       "    }\n",
       "\n",
       "    .dataframe tbody tr th {\n",
       "        vertical-align: top;\n",
       "    }\n",
       "\n",
       "    .dataframe thead th {\n",
       "        text-align: right;\n",
       "    }\n",
       "</style>\n",
       "<table border=\"1\" class=\"dataframe\">\n",
       "  <thead>\n",
       "    <tr style=\"text-align: right;\">\n",
       "      <th></th>\n",
       "      <th>id</th>\n",
       "      <th>Gender</th>\n",
       "      <th>Age</th>\n",
       "      <th>Driving_License</th>\n",
       "      <th>Region_Code</th>\n",
       "      <th>Previously_Insured</th>\n",
       "      <th>Vehicle_Age</th>\n",
       "      <th>Vehicle_Damage</th>\n",
       "      <th>Annual_Premium</th>\n",
       "      <th>Policy_Sales_Channel</th>\n",
       "      <th>Vintage</th>\n",
       "      <th>Response</th>\n",
       "    </tr>\n",
       "  </thead>\n",
       "  <tbody>\n",
       "    <tr>\n",
       "      <th>0</th>\n",
       "      <td>1</td>\n",
       "      <td>Male</td>\n",
       "      <td>44</td>\n",
       "      <td>1</td>\n",
       "      <td>28.0</td>\n",
       "      <td>0</td>\n",
       "      <td>&gt; 2 Years</td>\n",
       "      <td>Yes</td>\n",
       "      <td>40454.0</td>\n",
       "      <td>26.0</td>\n",
       "      <td>217</td>\n",
       "      <td>1</td>\n",
       "    </tr>\n",
       "    <tr>\n",
       "      <th>1</th>\n",
       "      <td>2</td>\n",
       "      <td>Male</td>\n",
       "      <td>76</td>\n",
       "      <td>1</td>\n",
       "      <td>3.0</td>\n",
       "      <td>0</td>\n",
       "      <td>1-2 Year</td>\n",
       "      <td>No</td>\n",
       "      <td>33536.0</td>\n",
       "      <td>26.0</td>\n",
       "      <td>183</td>\n",
       "      <td>0</td>\n",
       "    </tr>\n",
       "    <tr>\n",
       "      <th>2</th>\n",
       "      <td>3</td>\n",
       "      <td>Male</td>\n",
       "      <td>47</td>\n",
       "      <td>1</td>\n",
       "      <td>28.0</td>\n",
       "      <td>0</td>\n",
       "      <td>&gt; 2 Years</td>\n",
       "      <td>Yes</td>\n",
       "      <td>38294.0</td>\n",
       "      <td>26.0</td>\n",
       "      <td>27</td>\n",
       "      <td>1</td>\n",
       "    </tr>\n",
       "    <tr>\n",
       "      <th>3</th>\n",
       "      <td>4</td>\n",
       "      <td>Male</td>\n",
       "      <td>21</td>\n",
       "      <td>1</td>\n",
       "      <td>11.0</td>\n",
       "      <td>1</td>\n",
       "      <td>&lt; 1 Year</td>\n",
       "      <td>No</td>\n",
       "      <td>28619.0</td>\n",
       "      <td>152.0</td>\n",
       "      <td>203</td>\n",
       "      <td>0</td>\n",
       "    </tr>\n",
       "    <tr>\n",
       "      <th>4</th>\n",
       "      <td>5</td>\n",
       "      <td>Female</td>\n",
       "      <td>29</td>\n",
       "      <td>1</td>\n",
       "      <td>41.0</td>\n",
       "      <td>1</td>\n",
       "      <td>&lt; 1 Year</td>\n",
       "      <td>No</td>\n",
       "      <td>27496.0</td>\n",
       "      <td>152.0</td>\n",
       "      <td>39</td>\n",
       "      <td>0</td>\n",
       "    </tr>\n",
       "    <tr>\n",
       "      <th>5</th>\n",
       "      <td>6</td>\n",
       "      <td>Female</td>\n",
       "      <td>24</td>\n",
       "      <td>1</td>\n",
       "      <td>33.0</td>\n",
       "      <td>0</td>\n",
       "      <td>&lt; 1 Year</td>\n",
       "      <td>Yes</td>\n",
       "      <td>2630.0</td>\n",
       "      <td>160.0</td>\n",
       "      <td>176</td>\n",
       "      <td>0</td>\n",
       "    </tr>\n",
       "    <tr>\n",
       "      <th>6</th>\n",
       "      <td>7</td>\n",
       "      <td>Male</td>\n",
       "      <td>23</td>\n",
       "      <td>1</td>\n",
       "      <td>11.0</td>\n",
       "      <td>0</td>\n",
       "      <td>&lt; 1 Year</td>\n",
       "      <td>Yes</td>\n",
       "      <td>23367.0</td>\n",
       "      <td>152.0</td>\n",
       "      <td>249</td>\n",
       "      <td>0</td>\n",
       "    </tr>\n",
       "    <tr>\n",
       "      <th>7</th>\n",
       "      <td>8</td>\n",
       "      <td>Female</td>\n",
       "      <td>56</td>\n",
       "      <td>1</td>\n",
       "      <td>28.0</td>\n",
       "      <td>0</td>\n",
       "      <td>1-2 Year</td>\n",
       "      <td>Yes</td>\n",
       "      <td>32031.0</td>\n",
       "      <td>26.0</td>\n",
       "      <td>72</td>\n",
       "      <td>1</td>\n",
       "    </tr>\n",
       "    <tr>\n",
       "      <th>8</th>\n",
       "      <td>9</td>\n",
       "      <td>Female</td>\n",
       "      <td>24</td>\n",
       "      <td>1</td>\n",
       "      <td>3.0</td>\n",
       "      <td>1</td>\n",
       "      <td>&lt; 1 Year</td>\n",
       "      <td>No</td>\n",
       "      <td>27619.0</td>\n",
       "      <td>152.0</td>\n",
       "      <td>28</td>\n",
       "      <td>0</td>\n",
       "    </tr>\n",
       "    <tr>\n",
       "      <th>9</th>\n",
       "      <td>10</td>\n",
       "      <td>Female</td>\n",
       "      <td>32</td>\n",
       "      <td>1</td>\n",
       "      <td>6.0</td>\n",
       "      <td>1</td>\n",
       "      <td>&lt; 1 Year</td>\n",
       "      <td>No</td>\n",
       "      <td>28771.0</td>\n",
       "      <td>152.0</td>\n",
       "      <td>80</td>\n",
       "      <td>0</td>\n",
       "    </tr>\n",
       "  </tbody>\n",
       "</table>\n",
       "</div>"
      ],
      "text/plain": [
       "   id  Gender  Age  Driving_License  Region_Code  Previously_Insured  \\\n",
       "0   1    Male   44                1         28.0                   0   \n",
       "1   2    Male   76                1          3.0                   0   \n",
       "2   3    Male   47                1         28.0                   0   \n",
       "3   4    Male   21                1         11.0                   1   \n",
       "4   5  Female   29                1         41.0                   1   \n",
       "5   6  Female   24                1         33.0                   0   \n",
       "6   7    Male   23                1         11.0                   0   \n",
       "7   8  Female   56                1         28.0                   0   \n",
       "8   9  Female   24                1          3.0                   1   \n",
       "9  10  Female   32                1          6.0                   1   \n",
       "\n",
       "  Vehicle_Age Vehicle_Damage  Annual_Premium  Policy_Sales_Channel  Vintage  \\\n",
       "0   > 2 Years            Yes         40454.0                  26.0      217   \n",
       "1    1-2 Year             No         33536.0                  26.0      183   \n",
       "2   > 2 Years            Yes         38294.0                  26.0       27   \n",
       "3    < 1 Year             No         28619.0                 152.0      203   \n",
       "4    < 1 Year             No         27496.0                 152.0       39   \n",
       "5    < 1 Year            Yes          2630.0                 160.0      176   \n",
       "6    < 1 Year            Yes         23367.0                 152.0      249   \n",
       "7    1-2 Year            Yes         32031.0                  26.0       72   \n",
       "8    < 1 Year             No         27619.0                 152.0       28   \n",
       "9    < 1 Year             No         28771.0                 152.0       80   \n",
       "\n",
       "   Response  \n",
       "0         1  \n",
       "1         0  \n",
       "2         1  \n",
       "3         0  \n",
       "4         0  \n",
       "5         0  \n",
       "6         0  \n",
       "7         1  \n",
       "8         0  \n",
       "9         0  "
      ]
     },
     "execution_count": 155,
     "metadata": {
      "tags": []
     },
     "output_type": "execute_result"
    }
   ],
   "source": [
    "df.head(10)"
   ]
  },
  {
   "cell_type": "markdown",
   "metadata": {},
   "source": [
    "Let's look at the ratio of the target classification variable. <br>\n",
    "(Check ratio of Customers saying YES/NO for the Car Insurance)"
   ]
  },
  {
   "cell_type": "code",
   "execution_count": 5,
   "metadata": {
    "colab": {
     "base_uri": "https://localhost:8080/",
     "height": 70
    },
    "executionInfo": {
     "elapsed": 783,
     "status": "ok",
     "timestamp": 1603342042878,
     "user": {
      "displayName": "JOEL BRAGANZA",
      "photoUrl": "https://lh3.googleusercontent.com/a-/AOh14GiCqGBF0-DSW3pXhRCQksIWmS9Sn3pZ-f1QY6NjaA=s64",
      "userId": "05558119475177792340"
     },
     "user_tz": -330
    },
    "id": "4Q-x9FtV7r-c",
    "outputId": "23d71aef-2a36-4afc-a552-184d96a9696e"
   },
   "outputs": [
    {
     "data": {
      "text/plain": [
       "0    334399\n",
       "1     46710\n",
       "Name: Response, dtype: int64"
      ]
     },
     "execution_count": 5,
     "metadata": {
      "tags": []
     },
     "output_type": "execute_result"
    }
   ],
   "source": [
    "df['Response'].value_counts()"
   ]
  },
  {
   "cell_type": "markdown",
   "metadata": {},
   "source": [
    "The count of YES:1 is very less compared to NO: 0 <br>\n",
    "We need to balance this dataset"
   ]
  },
  {
   "cell_type": "code",
   "execution_count": 6,
   "metadata": {
    "colab": {
     "base_uri": "https://localhost:8080/",
     "height": 843
    },
    "executionInfo": {
     "elapsed": 1599,
     "status": "ok",
     "timestamp": 1603342061428,
     "user": {
      "displayName": "JOEL BRAGANZA",
      "photoUrl": "https://lh3.googleusercontent.com/a-/AOh14GiCqGBF0-DSW3pXhRCQksIWmS9Sn3pZ-f1QY6NjaA=s64",
      "userId": "05558119475177792340"
     },
     "user_tz": -330
    },
    "id": "T7AnLOtT7r-o",
    "outputId": "c570ee9e-6838-4b1c-c826-97b7ac5a7f4d"
   },
   "outputs": [
    {
     "name": "stdout",
     "output_type": "stream",
     "text": [
      "155\n"
     ]
    },
    {
     "data": {
      "image/png": "[encoded data removed]",
      "text/plain": [
       "<Figure size 432x288 with 1 Axes>"
      ]
     },
     "metadata": {
      "needs_background": "light",
      "tags": []
     },
     "output_type": "display_data"
    },
    {
     "name": "stdout",
     "output_type": "stream",
     "text": [
      "53\n",
      "Male      54.07613\n",
      "Female    45.92387\n",
      "Name: Gender, dtype: float64\n"
     ]
    },
    {
     "data": {
      "image/png": "[encoded data removed]",
      "text/plain": [
       "<Figure size 432x288 with 1 Axes>"
      ]
     },
     "metadata": {
      "needs_background": "light",
      "tags": []
     },
     "output_type": "display_data"
    },
    {
     "name": "stdout",
     "output_type": "stream",
     "text": [
      "1-2 Year     52.561341\n",
      "< 1 Year     43.238549\n",
      "> 2 Years     4.200111\n",
      "Name: Vehicle_Age, dtype: float64\n",
      "1    99.786938\n",
      "0     0.213062\n",
      "Name: Driving_License, dtype: float64\n",
      "Yes    50.487656\n",
      "No     49.512344\n",
      "Name: Vehicle_Damage, dtype: float64\n"
     ]
    }
   ],
   "source": [
    "from matplotlib import pyplot as plt\n",
    "# let's look at the unique Policy Sales Channel(ways of reaching out to the customer for policy)\n",
    "print (len(df['Policy_Sales_Channel'].unique())) # there are 155\n",
    "# let's look at the top 10 channels with the most observations\n",
    "df['Policy_Sales_Channel'].value_counts()[:10].plot(kind='bar')\n",
    "plt.title('Policy_Sales_Channel')\n",
    "plt.show()\n",
    "# channels 152, 26, 124, 160 have the highest no.of customers\n",
    "\n",
    "# Let's look at the no. of unique Region codes\n",
    "print (len(df['Region_Code'].unique())) # 53 unique Region codes\n",
    "\n",
    "# Let's look at the counts of male:female raion of customers with the company\n",
    "print( df['Gender'].value_counts()/df.shape[0]*100)  # Male is 200k+(54%), Female is 175k(45.9%)+\n",
    "\n",
    "# Let's look at from which 10 Region_Codes are the most customers from.\n",
    "df['Region_Code'].value_counts()[:10].plot(kind='bar')\n",
    "plt.title('Region_Code')\n",
    "plt.show()\n",
    "# Region_Code: 28 has the highest, with code 8 with less than half of 28's customers, followed by much lower counts\n",
    "# for other codes\n",
    "\n",
    "# Previously_Insured    \t  1 : Customer already has Vehicle Insurance, 0 : Customer doesn't have Vehicle Insurance\n",
    "df['Previously_Insured'].value_counts()\n",
    "\n",
    "# let's look at the Vehicle_Age\n",
    "print (df['Vehicle_Age'].value_counts()/df.shape[0]*100)\n",
    "# shows most(53.5%) are recent, some are very recent(<1 yr 43.2%) with very few(4.2% which are > 2 yrs) being \n",
    "\n",
    "# Let's see how many have a Driving_License\n",
    "print (df['Driving_License'].value_counts()/df.shape[0]*100)\n",
    "# 99.7 %,i.e, almost everyone has a driving license\n",
    "\n",
    "# Vehicle_Damage    \t  1 : Customer got his/her vehicle damaged in the past. \n",
    "#                         0 : Customer didn't get his/her vehicle damaged in the past.\n",
    "print (df['Vehicle_Damage'].value_counts()/df.shape[0]*100) # we can it's nearly 50-50\n",
    "\n"
   ]
  },
  {
   "cell_type": "markdown",
   "metadata": {},
   "source": [
    "Look for missing data."
   ]
  },
  {
   "cell_type": "code",
   "execution_count": 7,
   "metadata": {
    "colab": {
     "base_uri": "https://localhost:8080/",
     "height": 247
    },
    "executionInfo": {
     "elapsed": 953,
     "status": "ok",
     "timestamp": 1603342078151,
     "user": {
      "displayName": "JOEL BRAGANZA",
      "photoUrl": "https://lh3.googleusercontent.com/a-/AOh14GiCqGBF0-DSW3pXhRCQksIWmS9Sn3pZ-f1QY6NjaA=s64",
      "userId": "05558119475177792340"
     },
     "user_tz": -330
    },
    "id": "loX3jOrD7r-z",
    "outputId": "f982d5e2-b2fa-4183-99f7-3f59078378eb"
   },
   "outputs": [
    {
     "data": {
      "text/plain": [
       "id                      0.0\n",
       "Gender                  0.0\n",
       "Age                     0.0\n",
       "Driving_License         0.0\n",
       "Region_Code             0.0\n",
       "Previously_Insured      0.0\n",
       "Vehicle_Age             0.0\n",
       "Vehicle_Damage          0.0\n",
       "Annual_Premium          0.0\n",
       "Policy_Sales_Channel    0.0\n",
       "Vintage                 0.0\n",
       "Response                0.0\n",
       "dtype: float64"
      ]
     },
     "execution_count": 7,
     "metadata": {
      "tags": []
     },
     "output_type": "execute_result"
    }
   ],
   "source": [
    "df.isnull().sum()/df.shape[0] # there is no missing data"
   ]
  },
  {
   "cell_type": "markdown",
   "metadata": {},
   "source": [
    "### Outlier Analysis & removal"
   ]
  },
  {
   "cell_type": "markdown",
   "metadata": {},
   "source": [
    "Let's look for presence of outliers in the continuous data <br>\n",
    "Let's also remove the Outliers if found"
   ]
  },
  {
   "cell_type": "code",
   "execution_count": 8,
   "metadata": {
    "colab": {
     "base_uri": "https://localhost:8080/",
     "height": 1000
    },
    "executionInfo": {
     "elapsed": 1434,
     "status": "ok",
     "timestamp": 1603342083770,
     "user": {
      "displayName": "JOEL BRAGANZA",
      "photoUrl": "https://lh3.googleusercontent.com/a-/AOh14GiCqGBF0-DSW3pXhRCQksIWmS9Sn3pZ-f1QY6NjaA=s64",
      "userId": "05558119475177792340"
     },
     "user_tz": -330
    },
    "id": "30rv6KTV7r-_",
    "outputId": "b57c6113-8086-4637-8a52-3814c5e5bd4a"
   },
   "outputs": [
    {
     "name": "stdout",
     "output_type": "stream",
     "text": [
      "Age\n"
     ]
    },
    {
     "data": {
      "image/png": "[encoded data removed]",
      "text/plain": [
       "<Figure size 432x288 with 1 Axes>"
      ]
     },
     "metadata": {
      "needs_background": "light",
      "tags": []
     },
     "output_type": "display_data"
    },
    {
     "name": "stdout",
     "output_type": "stream",
     "text": [
      "Annual_Premium\n"
     ]
    },
    {
     "data": {
      "image/png": "[encoded data removed]",
      "text/plain": [
       "<Figure size 432x288 with 1 Axes>"
      ]
     },
     "metadata": {
      "needs_background": "light",
      "tags": []
     },
     "output_type": "display_data"
    },
    {
     "name": "stdout",
     "output_type": "stream",
     "text": [
      "Vintage\n"
     ]
    },
    {
     "data": {
      "image/png": "[encoded data removed]",
      "text/plain": [
       "<Figure size 432x288 with 1 Axes>"
      ]
     },
     "metadata": {
      "needs_background": "light",
      "tags": []
     },
     "output_type": "display_data"
    },
    {
     "data": {
      "text/plain": [
       "id                      0.000000\n",
       "Gender                  0.000000\n",
       "Age                     0.000000\n",
       "Driving_License         0.000000\n",
       "Region_Code             0.000000\n",
       "Previously_Insured      0.000000\n",
       "Vehicle_Age             0.000000\n",
       "Vehicle_Damage          0.000000\n",
       "Annual_Premium          0.027079\n",
       "Policy_Sales_Channel    0.000000\n",
       "Vintage                 0.000000\n",
       "Response                0.000000\n",
       "dtype: float64"
      ]
     },
     "execution_count": 8,
     "metadata": {
      "tags": []
     },
     "output_type": "execute_result"
    }
   ],
   "source": [
    "from matplotlib import pyplot as plt\n",
    "\n",
    "# \n",
    "for i in ['Age','Annual_Premium','Vintage']:\n",
    "    print (i)\n",
    "    plt.boxplot(df[i])\n",
    "    plt.show()\n",
    "    \n",
    "# Annual_Premium shows outliers presence\n",
    "for i in ['Age','Annual_Premium','Vintage']:\n",
    "    q75,q25 = np.percentile(df[i],[75,25])\n",
    "    iqr = q75-q25\n",
    "    maximum = q75+(iqr*1.5)\n",
    "    minimum = q25- (iqr*1.5)\n",
    "    df.loc[df[i]>maximum,i]=np.NaN\n",
    "    df.loc[df[i]<minimum,i]=np.NaN\n",
    "    \n",
    "df.isnull().sum()/df.shape[0] # there is no missing data    "
   ]
  },
  {
   "cell_type": "markdown",
   "metadata": {},
   "source": [
    "Only Annual_Premium shows 2% Null values after Outlier-Removal, let's impute them"
   ]
  },
  {
   "cell_type": "code",
   "execution_count": 9,
   "metadata": {
    "colab": {
     "base_uri": "https://localhost:8080/",
     "height": 34
    },
    "executionInfo": {
     "elapsed": 948,
     "status": "ok",
     "timestamp": 1603342094858,
     "user": {
      "displayName": "JOEL BRAGANZA",
      "photoUrl": "https://lh3.googleusercontent.com/a-/AOh14GiCqGBF0-DSW3pXhRCQksIWmS9Sn3pZ-f1QY6NjaA=s64",
      "userId": "05558119475177792340"
     },
     "user_tz": -330
    },
    "id": "N-PEUxLC7r_M",
    "outputId": "3509c6a9-d9d9-4ba5-bade-d8f8744dc5dd"
   },
   "outputs": [
    {
     "data": {
      "text/plain": [
       "0.0"
      ]
     },
     "execution_count": 9,
     "metadata": {
      "tags": []
     },
     "output_type": "execute_result"
    }
   ],
   "source": [
    "df['Annual_Premium'] = df['Annual_Premium'].fillna(df['Annual_Premium'].median())\n",
    "df['Annual_Premium'].isnull().sum()/df.shape[0]"
   ]
  },
  {
   "cell_type": "markdown",
   "metadata": {},
   "source": [
    "Let's see the distribution of Age, Annual_Premium  and  Vintage variables of the people associated with the company"
   ]
  },
  {
   "cell_type": "code",
   "execution_count": 10,
   "metadata": {
    "colab": {
     "base_uri": "https://localhost:8080/",
     "height": 1000
    },
    "executionInfo": {
     "elapsed": 8587,
     "status": "ok",
     "timestamp": 1603342106731,
     "user": {
      "displayName": "JOEL BRAGANZA",
      "photoUrl": "https://lh3.googleusercontent.com/a-/AOh14GiCqGBF0-DSW3pXhRCQksIWmS9Sn3pZ-f1QY6NjaA=s64",
      "userId": "05558119475177792340"
     },
     "user_tz": -330
    },
    "id": "c66BxR_U7r_b",
    "outputId": "d438a201-d84f-40ee-9411-5f91b9d7142e"
   },
   "outputs": [
    {
     "name": "stdout",
     "output_type": "stream",
     "text": [
      "Age\n"
     ]
    },
    {
     "name": "stderr",
     "output_type": "stream",
     "text": [
      "/usr/local/lib/python3.6/dist-packages/seaborn/distributions.py:2551: FutureWarning: `distplot` is a deprecated function and will be removed in a future version. Please adapt your code to use either `displot` (a figure-level function with similar flexibility) or `histplot` (an axes-level function for histograms).\n",
      "  warnings.warn(msg, FutureWarning)\n"
     ]
    },
    {
     "data": {
      "image/png": "[encoded data removed]",
      "text/plain": [
       "<Figure size 432x288 with 1 Axes>"
      ]
     },
     "metadata": {
      "needs_background": "light",
      "tags": []
     },
     "output_type": "display_data"
    },
    {
     "name": "stdout",
     "output_type": "stream",
     "text": [
      "\n",
      "\n",
      "Annual_Premium\n"
     ]
    },
    {
     "name": "stderr",
     "output_type": "stream",
     "text": [
      "/usr/local/lib/python3.6/dist-packages/seaborn/distributions.py:2551: FutureWarning: `distplot` is a deprecated function and will be removed in a future version. Please adapt your code to use either `displot` (a figure-level function with similar flexibility) or `histplot` (an axes-level function for histograms).\n",
      "  warnings.warn(msg, FutureWarning)\n"
     ]
    },
    {
     "data": {
      "image/png": "[encoded data removed]",
      "text/plain": [
       "<Figure size 432x288 with 1 Axes>"
      ]
     },
     "metadata": {
      "needs_background": "light",
      "tags": []
     },
     "output_type": "display_data"
    },
    {
     "name": "stdout",
     "output_type": "stream",
     "text": [
      "\n",
      "\n",
      "Vintage\n"
     ]
    },
    {
     "name": "stderr",
     "output_type": "stream",
     "text": [
      "/usr/local/lib/python3.6/dist-packages/seaborn/distributions.py:2551: FutureWarning: `distplot` is a deprecated function and will be removed in a future version. Please adapt your code to use either `displot` (a figure-level function with similar flexibility) or `histplot` (an axes-level function for histograms).\n",
      "  warnings.warn(msg, FutureWarning)\n"
     ]
    },
    {
     "data": {
      "image/png": "[encoded data removed]",
      "text/plain": [
       "<Figure size 432x288 with 1 Axes>"
      ]
     },
     "metadata": {
      "needs_background": "light",
      "tags": []
     },
     "output_type": "display_data"
    },
    {
     "name": "stdout",
     "output_type": "stream",
     "text": [
      "\n",
      "\n"
     ]
    }
   ],
   "source": [
    "from matplotlib import pyplot as plt\n",
    "\n",
    "import seaborn as sns\n",
    "\n",
    "for i in ['Age','Annual_Premium','Vintage']:\n",
    "    print (i) #,': Median: ',df[i].median(),' : Mean: ',df.mean(),' :',df.std())\n",
    "    sns.distplot(df[i])\n",
    "    plt.axvline(df[i].median(),color='b') # the median line is Blue\n",
    "    plt.axvline(df[i].mean(),color='r') # mean line is Red\n",
    "    plt.axvline((df[i].median()-np.std(df[i])),color='g') # 1st standard deviation\n",
    "    plt.axvline((df[i].median()+np.std(df[i])),color='g') # 1st standard deviation\n",
    "    plt.axvline(2*(df[i].median()-np.std(df[i])),color='g') # 2nd standard deviation\n",
    "    plt.axvline(2*(df[i].median()+np.std(df[i])),color='g') # 2nd standard deviation\n",
    "    plt.show()\n",
    "    print ('\\n')"
   ]
  },
  {
   "cell_type": "markdown",
   "metadata": {},
   "source": [
    "Let's create a new dataframe and convert the string-labels to numeric-discrete labels for that categorical variable also let's nromalize the continuous variables."
   ]
  },
  {
   "cell_type": "code",
   "execution_count": 11,
   "metadata": {
    "colab": {
     "base_uri": "https://localhost:8080/",
     "height": 370
    },
    "executionInfo": {
     "elapsed": 1335,
     "status": "ok",
     "timestamp": 1603342112603,
     "user": {
      "displayName": "JOEL BRAGANZA",
      "photoUrl": "https://lh3.googleusercontent.com/a-/AOh14GiCqGBF0-DSW3pXhRCQksIWmS9Sn3pZ-f1QY6NjaA=s64",
      "userId": "05558119475177792340"
     },
     "user_tz": -330
    },
    "id": "lFF_1P527r_p",
    "outputId": "ce814c56-e479-455b-da9d-98383f480c8c"
   },
   "outputs": [
    {
     "name": "stdout",
     "output_type": "stream",
     "text": [
      "Region_Code : float64\n",
      "Gender : object\n",
      "Region_Code : float64\n",
      "Previously_Insured : int64\n",
      "Vehicle_Age : object\n",
      "Driving_License : int64\n",
      "Policy_Sales_Channel : float64\n",
      "Vehicle_Damage : object\n"
     ]
    },
    {
     "data": {
      "text/html": [
       "<div>\n",
       "<style scoped>\n",
       "    .dataframe tbody tr th:only-of-type {\n",
       "        vertical-align: middle;\n",
       "    }\n",
       "\n",
       "    .dataframe tbody tr th {\n",
       "        vertical-align: top;\n",
       "    }\n",
       "\n",
       "    .dataframe thead th {\n",
       "        text-align: right;\n",
       "    }\n",
       "</style>\n",
       "<table border=\"1\" class=\"dataframe\">\n",
       "  <thead>\n",
       "    <tr style=\"text-align: right;\">\n",
       "      <th></th>\n",
       "      <th>Gender</th>\n",
       "      <th>Age</th>\n",
       "      <th>Driving_License</th>\n",
       "      <th>Region_Code</th>\n",
       "      <th>Previously_Insured</th>\n",
       "      <th>Vehicle_Age</th>\n",
       "      <th>Vehicle_Damage</th>\n",
       "      <th>Annual_Premium</th>\n",
       "      <th>Policy_Sales_Channel</th>\n",
       "      <th>Vintage</th>\n",
       "      <th>Response</th>\n",
       "    </tr>\n",
       "  </thead>\n",
       "  <tbody>\n",
       "    <tr>\n",
       "      <th>35665</th>\n",
       "      <td>0</td>\n",
       "      <td>0.753846</td>\n",
       "      <td>1</td>\n",
       "      <td>28</td>\n",
       "      <td>0</td>\n",
       "      <td>0</td>\n",
       "      <td>1</td>\n",
       "      <td>0.680301</td>\n",
       "      <td>117</td>\n",
       "      <td>0.397924</td>\n",
       "      <td>0</td>\n",
       "    </tr>\n",
       "    <tr>\n",
       "      <th>241847</th>\n",
       "      <td>1</td>\n",
       "      <td>0.138462</td>\n",
       "      <td>1</td>\n",
       "      <td>28</td>\n",
       "      <td>0</td>\n",
       "      <td>1</td>\n",
       "      <td>1</td>\n",
       "      <td>0.000000</td>\n",
       "      <td>148</td>\n",
       "      <td>0.698962</td>\n",
       "      <td>0</td>\n",
       "    </tr>\n",
       "    <tr>\n",
       "      <th>296349</th>\n",
       "      <td>0</td>\n",
       "      <td>0.061538</td>\n",
       "      <td>1</td>\n",
       "      <td>11</td>\n",
       "      <td>1</td>\n",
       "      <td>1</td>\n",
       "      <td>0</td>\n",
       "      <td>0.355692</td>\n",
       "      <td>145</td>\n",
       "      <td>0.069204</td>\n",
       "      <td>0</td>\n",
       "    </tr>\n",
       "    <tr>\n",
       "      <th>193104</th>\n",
       "      <td>1</td>\n",
       "      <td>0.353846</td>\n",
       "      <td>1</td>\n",
       "      <td>26</td>\n",
       "      <td>0</td>\n",
       "      <td>0</td>\n",
       "      <td>1</td>\n",
       "      <td>0.578836</td>\n",
       "      <td>119</td>\n",
       "      <td>0.083045</td>\n",
       "      <td>1</td>\n",
       "    </tr>\n",
       "    <tr>\n",
       "      <th>68068</th>\n",
       "      <td>1</td>\n",
       "      <td>0.892308</td>\n",
       "      <td>1</td>\n",
       "      <td>28</td>\n",
       "      <td>1</td>\n",
       "      <td>0</td>\n",
       "      <td>0</td>\n",
       "      <td>0.432452</td>\n",
       "      <td>24</td>\n",
       "      <td>0.871972</td>\n",
       "      <td>0</td>\n",
       "    </tr>\n",
       "    <tr>\n",
       "      <th>213955</th>\n",
       "      <td>1</td>\n",
       "      <td>0.430769</td>\n",
       "      <td>1</td>\n",
       "      <td>15</td>\n",
       "      <td>0</td>\n",
       "      <td>0</td>\n",
       "      <td>1</td>\n",
       "      <td>0.474824</td>\n",
       "      <td>24</td>\n",
       "      <td>0.792388</td>\n",
       "      <td>1</td>\n",
       "    </tr>\n",
       "  </tbody>\n",
       "</table>\n",
       "</div>"
      ],
      "text/plain": [
       "       Gender       Age  ...   Vintage Response\n",
       "35665       0  0.753846  ...  0.397924        0\n",
       "241847      1  0.138462  ...  0.698962        0\n",
       "296349      0  0.061538  ...  0.069204        0\n",
       "193104      1  0.353846  ...  0.083045        1\n",
       "68068       1  0.892308  ...  0.871972        0\n",
       "213955      1  0.430769  ...  0.792388        1\n",
       "\n",
       "[6 rows x 11 columns]"
      ]
     },
     "execution_count": 11,
     "metadata": {
      "tags": []
     },
     "output_type": "execute_result"
    }
   ],
   "source": [
    "df2 = df.copy()\n",
    "numeric = ['Age','Annual_Premium','Vintage']\n",
    "categorical=['Region_Code','Gender','Region_Code','Previously_Insured', 'Vehicle_Age', 'Driving_License',\n",
    "             'Policy_Sales_Channel','Vehicle_Damage']\n",
    "for c in categorical:\n",
    "    df2[c] = pd.Categorical(df2[c])\n",
    "    df2[c] = df2[c].cat.codes\n",
    "    df2[c] = df2[c].astype('object')\n",
    "    print (c,':',df[c].dtype)\n",
    "    \n",
    "for c in numeric:\n",
    "    df2[c] = (df2[c]-min(df2[c]))/(max(df2[c])-min(df2[c]))\n",
    "\n",
    "# we shall drop the id variable\n",
    "df2.drop('id',axis=1, inplace=True)\n",
    "df2.sample(6)    \n"
   ]
  },
  {
   "cell_type": "markdown",
   "metadata": {},
   "source": [
    "### ANOVA test"
   ]
  },
  {
   "cell_type": "markdown",
   "metadata": {},
   "source": [
    "Let's perform ANOVA (analysis of Variance) test between the categorical-target and the independent numeric variables"
   ]
  },
  {
   "cell_type": "code",
   "execution_count": 13,
   "metadata": {
    "colab": {
     "base_uri": "https://localhost:8080/",
     "height": 247
    },
    "executionInfo": {
     "elapsed": 1183,
     "status": "ok",
     "timestamp": 1603342130369,
     "user": {
      "displayName": "JOEL BRAGANZA",
      "photoUrl": "https://lh3.googleusercontent.com/a-/AOh14GiCqGBF0-DSW3pXhRCQksIWmS9Sn3pZ-f1QY6NjaA=s64",
      "userId": "05558119475177792340"
     },
     "user_tz": -330
    },
    "id": "Pz1WISXl7r_6",
    "outputId": "fa36c319-7f7a-450c-872a-e4e97f3b9bb3"
   },
   "outputs": [
    {
     "name": "stdout",
     "output_type": "stream",
     "text": [
      "Age  P-value:  0.0  f-statistic:  64627.48219709389\n",
      "There is a relationship between col:  Age  and the target variable\n",
      "\n",
      "\n",
      "Annual_Premium  P-value:  0.0  f-statistic:  244086.6727483291\n",
      "There is a relationship between col:  Annual_Premium  and the target variable\n",
      "\n",
      "\n",
      "Vintage  P-value:  0.0  f-statistic:  282918.69080911507\n",
      "There is a relationship between col:  Vintage  and the target variable\n",
      "\n",
      "\n",
      "[]\n"
     ]
    }
   ],
   "source": [
    "numeric = ['Age','Annual_Premium','Vintage'] # all the numeric variables\n",
    "unrelated =[]#  list of variables  not-related to the target\n",
    "\n",
    "from scipy import stats\n",
    "for i in numeric:\n",
    "    fStat, pVal = stats.f_oneway(df2['Response'], df2[i])\n",
    "    print(i,' P-value: ',pVal,' f-statistic: ',fStat)\n",
    "    if pVal<0.05:\n",
    "        print ('There is a relationship between col: ',i,' and the target variable')\n",
    "    else:\n",
    "        print ('No relationship between col: ',i,' and the target variable')\n",
    "        unrelated.append(i)\n",
    "    print ('\\n')    \n",
    "        \n",
    "print (unrelated)\n",
    "# all 3 numeric continuous variables show relationship"
   ]
  },
  {
   "cell_type": "markdown",
   "metadata": {},
   "source": [
    "### Chi-Squared contingency test"
   ]
  },
  {
   "cell_type": "markdown",
   "metadata": {},
   "source": [
    "Also let's perform a chi-square test between these categorical variables to see if they dependent on each other."
   ]
  },
  {
   "cell_type": "code",
   "execution_count": 14,
   "metadata": {
    "colab": {
     "base_uri": "https://localhost:8080/",
     "height": 514
    },
    "executionInfo": {
     "elapsed": 1286,
     "status": "ok",
     "timestamp": 1603342134530,
     "user": {
      "displayName": "JOEL BRAGANZA",
      "photoUrl": "https://lh3.googleusercontent.com/a-/AOh14GiCqGBF0-DSW3pXhRCQksIWmS9Sn3pZ-f1QY6NjaA=s64",
      "userId": "05558119475177792340"
     },
     "user_tz": -330
    },
    "id": "2PW3QtL07sAG",
    "outputId": "4ac69f0d-dfdf-4cfb-cec9-95b06e036dbd"
   },
   "outputs": [
    {
     "name": "stdout",
     "output_type": "stream",
     "text": [
      "Target w.r.t  Region_Code  p-value:  0.0\n",
      "no relation\n",
      "\n",
      "\n",
      "Target w.r.t  Gender  p-value:  7.665800628415621e-230\n",
      "no relation\n",
      "\n",
      "\n",
      "Target w.r.t  Region_Code  p-value:  0.0\n",
      "no relation\n",
      "\n",
      "\n",
      "Target w.r.t  Previously_Insured  p-value:  0.0\n",
      "no relation\n",
      "\n",
      "\n",
      "Target w.r.t  Vehicle_Age  p-value:  0.0\n",
      "no relation\n",
      "\n",
      "\n",
      "Target w.r.t  Driving_License  p-value:  5.111753504019177e-10\n",
      "no relation\n",
      "\n",
      "\n",
      "Target w.r.t  Policy_Sales_Channel  p-value:  0.0\n",
      "no relation\n",
      "\n",
      "\n"
     ]
    }
   ],
   "source": [
    "from scipy.stats import chi2_contingency\n",
    "\n",
    "categorical=['Region_Code','Gender','Region_Code','Previously_Insured', 'Vehicle_Age', 'Driving_License','Policy_Sales_Channel']\n",
    "for i in categorical:\n",
    "    chi2, p, dof, ex = chi2_contingency(pd.crosstab(df2['Response'], df2[i]))\n",
    "    print ('Target w.r.t ',i,' p-value: ',p)\n",
    "    if p>0.05:\n",
    "        print ('relationship present')\n",
    "    else:\n",
    "        print ('no relation')\n",
    "    print ('\\n')\n",
    "# the Chi-Squared test shows no-relation of the target with any other categorical variable."
   ]
  },
  {
   "cell_type": "markdown",
   "metadata": {},
   "source": [
    "### ExtraTreesClassifier"
   ]
  },
  {
   "cell_type": "markdown",
   "metadata": {},
   "source": [
    "Let's perform a feature importance test this test gives you a score for each feature of your data, <br>\n",
    "the higher score shows more importance/relevance of that feature towards your target variable it uses a tree-based classifiers approach. <br>\n"
   ]
  },
  {
   "cell_type": "code",
   "execution_count": 15,
   "metadata": {
    "colab": {
     "base_uri": "https://localhost:8080/",
     "height": 397
    },
    "executionInfo": {
     "elapsed": 33111,
     "status": "ok",
     "timestamp": 1603342172396,
     "user": {
      "displayName": "JOEL BRAGANZA",
      "photoUrl": "https://lh3.googleusercontent.com/a-/AOh14GiCqGBF0-DSW3pXhRCQksIWmS9Sn3pZ-f1QY6NjaA=s64",
      "userId": "05558119475177792340"
     },
     "user_tz": -330
    },
    "id": "Wet0P9je7sAS",
    "outputId": "2bba9cbb-0ec9-4463-b45c-1c5797e45a99"
   },
   "outputs": [
    {
     "name": "stdout",
     "output_type": "stream",
     "text": [
      "[0.00547875 0.15834244 0.00048858 0.11249573 0.04946732 0.01618054\n",
      " 0.08160544 0.22764499 0.07319081 0.2751054 ]\n"
     ]
    },
    {
     "data": {
      "image/png": "[encoded data removed]",
      "text/plain": [
       "<Figure size 432x288 with 1 Axes>"
      ]
     },
     "metadata": {
      "needs_background": "light",
      "tags": []
     },
     "output_type": "display_data"
    }
   ],
   "source": [
    "from matplotlib import pyplot as plt\n",
    "import seaborn as sns\n",
    "from sklearn.ensemble import ExtraTreesClassifier\n",
    "\n",
    "X = df2.iloc[:,:-1]\n",
    "y = df2['Response'].astype('int32')\n",
    "importances = ExtraTreesClassifier()\n",
    "#help(importances.fit)\n",
    "importances = importances.fit(X,y)#X,y\n",
    "print (importances.feature_importances_)\n",
    "\n",
    "# Let's look at the scores visually\n",
    "\n",
    "values = pd.Series(importances.feature_importances_, index = df2.columns[:-1])\n",
    "values.nlargest(10).plot(kind='bar')\n",
    "plt.figsize=(40,80)\n",
    "plt.show()\n",
    "# just as in the previous tests, ANOVA test told us all continuous variables were important\n",
    "# this can be seen here, Vintage, Annual_premium & Age show highest importances\n",
    "# these are followed by categoric variables like Region code showing significance with the rest with lower importances."
   ]
  },
  {
   "cell_type": "markdown",
   "metadata": {},
   "source": [
    "### RandomForest Classifier - feature test"
   ]
  },
  {
   "cell_type": "code",
   "execution_count": 16,
   "metadata": {
    "colab": {
     "base_uri": "https://localhost:8080/",
     "height": 52
    },
    "executionInfo": {
     "elapsed": 58308,
     "status": "ok",
     "timestamp": 1603342241836,
     "user": {
      "displayName": "JOEL BRAGANZA",
      "photoUrl": "https://lh3.googleusercontent.com/a-/AOh14GiCqGBF0-DSW3pXhRCQksIWmS9Sn3pZ-f1QY6NjaA=s64",
      "userId": "05558119475177792340"
     },
     "user_tz": -330
    },
    "id": "G-M4cBhZ7sAg",
    "outputId": "99507991-7fca-457e-dc17-8bbe61cac494"
   },
   "outputs": [
    {
     "name": "stdout",
     "output_type": "stream",
     "text": [
      "[ True  True  True False False False False False False False]\n",
      "Index(['Age', 'Annual_Premium', 'Vintage'], dtype='object')\n"
     ]
    }
   ],
   "source": [
    "# source: https://towardsdatascience.com/feature-selection-using-random-forest-26d7b747597f\n",
    "from sklearn.ensemble import RandomForestClassifier \n",
    "from sklearn.feature_selection import SelectFromModel\n",
    "\n",
    "# fitting the feature selection model with the random forest regression data\n",
    "sel_ = SelectFromModel(RandomForestClassifier(n_estimators = 100))\n",
    "\n",
    "sel_.fit(df2[numeric+categorical], df2['Response'])\n",
    "#sel_.fit(df[numeric], df['Class'])\n",
    "\n",
    "# Visualising features that were kept by the lasso regularisation\n",
    "print (sel_.get_support())\n",
    "\n",
    "#  So True is for the features that trees have voted to be important \n",
    "# while False is for the features voted on average to be not necessary\n",
    "\n",
    "\n",
    "selected_feat = df2[numeric+categorical].columns[(sel_.get_support())] # gives the remaining features\n",
    "\n",
    "print (selected_feat)\n",
    "# only 'Age','Annual_Premium', 'Vintage' are deemed important here, just like shown in ANOVA test\n"
   ]
  },
  {
   "cell_type": "markdown",
   "metadata": {},
   "source": [
    "### Logistic Regression - L2 feature importance test"
   ]
  },
  {
   "cell_type": "code",
   "execution_count": 17,
   "metadata": {
    "colab": {
     "base_uri": "https://localhost:8080/",
     "height": 194
    },
    "executionInfo": {
     "elapsed": 7411,
     "status": "ok",
     "timestamp": 1603342259032,
     "user": {
      "displayName": "JOEL BRAGANZA",
      "photoUrl": "https://lh3.googleusercontent.com/a-/AOh14GiCqGBF0-DSW3pXhRCQksIWmS9Sn3pZ-f1QY6NjaA=s64",
      "userId": "05558119475177792340"
     },
     "user_tz": -330
    },
    "id": "GWDEiVpx7sAr",
    "outputId": "d251e522-18de-43df-997c-0e0625082359"
   },
   "outputs": [
    {
     "name": "stdout",
     "output_type": "stream",
     "text": [
      "[False False False False False False  True False False False]\n",
      "Index(['Previously_Insured'], dtype='object')\n"
     ]
    },
    {
     "name": "stderr",
     "output_type": "stream",
     "text": [
      "/usr/local/lib/python3.6/dist-packages/sklearn/linear_model/_logistic.py:940: ConvergenceWarning: lbfgs failed to converge (status=1):\n",
      "STOP: TOTAL NO. of ITERATIONS REACHED LIMIT.\n",
      "\n",
      "Increase the number of iterations (max_iter) or scale the data as shown in:\n",
      "    https://scikit-learn.org/stable/modules/preprocessing.html\n",
      "Please also refer to the documentation for alternative solver options:\n",
      "    https://scikit-learn.org/stable/modules/linear_model.html#logistic-regression\n",
      "  extra_warning_msg=_LOGISTIC_SOLVER_CONVERGENCE_MSG)\n"
     ]
    }
   ],
   "source": [
    "# source: https://towardsdatascience.com/feature-selection-using-regularisation-a3678b71e499\n",
    "from sklearn.linear_model import LogisticRegression # Lasso is L1 regularization, Ridge is L2\n",
    "from sklearn.feature_selection import SelectFromModel\n",
    "\n",
    "# fitting the feature selection model with the Logistic regression data\n",
    "sel_ = SelectFromModel(LogisticRegression(C=1, penalty='l2'))\n",
    "sel_.fit(df2[numeric+categorical], df2['Response'])\n",
    "#sel_.fit(df[numeric], df['Class'])\n",
    "\n",
    "# Visualising features that were kept by the lasso regularisation\n",
    "print (sel_.get_support())\n",
    "\n",
    "#  So True is for the features that lasso thought is important (non-zero features) \n",
    "# while False is for the features whose weights were shrinked to zero and are not important according to Lasso.\n",
    "\n",
    "#print (len(sel_.get_support()), len(df.columns))\n",
    "selected_feat = df2[numeric+categorical].columns[(sel_.get_support())] # gives the remaining features\n",
    "\n",
    "print (selected_feat)\n",
    "# this feature importance test says only the Previously_Insured variable is important\n",
    "# because this is an unbalanced dataset, the Logistic regression test for feature importance can't be trusted."
   ]
  },
  {
   "cell_type": "markdown",
   "metadata": {},
   "source": [
    "Based on all the feature selection tests, we shall only keep the relevant categoric variables for modelling so let's create a test dataframe and not include the redundant variables in them."
   ]
  },
  {
   "cell_type": "markdown",
   "metadata": {},
   "source": [
    "Let's also normalize the continuous variables."
   ]
  },
  {
   "cell_type": "code",
   "execution_count": 18,
   "metadata": {
    "colab": {
     "base_uri": "https://localhost:8080/",
     "height": 257
    },
    "executionInfo": {
     "elapsed": 1039,
     "status": "ok",
     "timestamp": 1603342267419,
     "user": {
      "displayName": "JOEL BRAGANZA",
      "photoUrl": "https://lh3.googleusercontent.com/a-/AOh14GiCqGBF0-DSW3pXhRCQksIWmS9Sn3pZ-f1QY6NjaA=s64",
      "userId": "05558119475177792340"
     },
     "user_tz": -330
    },
    "id": "5bMcNiQT7sA5",
    "outputId": "237dd2a6-f7cb-483e-ae62-457bc6a45b35"
   },
   "outputs": [
    {
     "data": {
      "text/html": [
       "<div>\n",
       "<style scoped>\n",
       "    .dataframe tbody tr th:only-of-type {\n",
       "        vertical-align: middle;\n",
       "    }\n",
       "\n",
       "    .dataframe tbody tr th {\n",
       "        vertical-align: top;\n",
       "    }\n",
       "\n",
       "    .dataframe thead th {\n",
       "        text-align: right;\n",
       "    }\n",
       "</style>\n",
       "<table border=\"1\" class=\"dataframe\">\n",
       "  <thead>\n",
       "    <tr style=\"text-align: right;\">\n",
       "      <th></th>\n",
       "      <th>Age</th>\n",
       "      <th>Annual_Premium</th>\n",
       "      <th>Vintage</th>\n",
       "    </tr>\n",
       "  </thead>\n",
       "  <tbody>\n",
       "    <tr>\n",
       "      <th>97431</th>\n",
       "      <td>0.123077</td>\n",
       "      <td>0.052306</td>\n",
       "      <td>0.051903</td>\n",
       "    </tr>\n",
       "    <tr>\n",
       "      <th>109800</th>\n",
       "      <td>0.030769</td>\n",
       "      <td>0.079661</td>\n",
       "      <td>0.100346</td>\n",
       "    </tr>\n",
       "    <tr>\n",
       "      <th>69716</th>\n",
       "      <td>0.030769</td>\n",
       "      <td>0.054636</td>\n",
       "      <td>0.553633</td>\n",
       "    </tr>\n",
       "    <tr>\n",
       "      <th>27661</th>\n",
       "      <td>0.046154</td>\n",
       "      <td>0.063888</td>\n",
       "      <td>0.093426</td>\n",
       "    </tr>\n",
       "    <tr>\n",
       "      <th>64262</th>\n",
       "      <td>0.446154</td>\n",
       "      <td>0.084478</td>\n",
       "      <td>0.761246</td>\n",
       "    </tr>\n",
       "    <tr>\n",
       "      <th>106084</th>\n",
       "      <td>0.876923</td>\n",
       "      <td>0.039045</td>\n",
       "      <td>0.065744</td>\n",
       "    </tr>\n",
       "    <tr>\n",
       "      <th>31486</th>\n",
       "      <td>0.261538</td>\n",
       "      <td>0.000000</td>\n",
       "      <td>0.688581</td>\n",
       "    </tr>\n",
       "  </tbody>\n",
       "</table>\n",
       "</div>"
      ],
      "text/plain": [
       "             Age  Annual_Premium   Vintage\n",
       "97431   0.123077        0.052306  0.051903\n",
       "109800  0.030769        0.079661  0.100346\n",
       "69716   0.030769        0.054636  0.553633\n",
       "27661   0.046154        0.063888  0.093426\n",
       "64262   0.446154        0.084478  0.761246\n",
       "106084  0.876923        0.039045  0.065744\n",
       "31486   0.261538        0.000000  0.688581"
      ]
     },
     "execution_count": 18,
     "metadata": {
      "tags": []
     },
     "output_type": "execute_result"
    }
   ],
   "source": [
    "\n",
    "df2_test = df_test.copy()\n",
    "df2_test = df2_test[numeric]\n",
    "for n in numeric:\n",
    "    df2_test[n] = (df2_test[n]-min(df2_test[n]))/(max(df2_test[n])-min(df2_test[n])) \n",
    "    \n",
    "df2_test.sample(7)    \n",
    "# so the test data is ready"
   ]
  },
  {
   "cell_type": "markdown",
   "metadata": {},
   "source": [
    "The test results(Response) variable is in another file, let's load it into a dataframe"
   ]
  },
  {
   "cell_type": "code",
   "execution_count": 19,
   "metadata": {
    "colab": {
     "base_uri": "https://localhost:8080/",
     "height": 233
    },
    "executionInfo": {
     "elapsed": 1025,
     "status": "ok",
     "timestamp": 1603342272824,
     "user": {
      "displayName": "JOEL BRAGANZA",
      "photoUrl": "https://lh3.googleusercontent.com/a-/AOh14GiCqGBF0-DSW3pXhRCQksIWmS9Sn3pZ-f1QY6NjaA=s64",
      "userId": "05558119475177792340"
     },
     "user_tz": -330
    },
    "id": "IewU0wXt7sBH",
    "outputId": "b57ffe63-184d-4555-e25d-56b66ece6955"
   },
   "outputs": [
    {
     "name": "stdout",
     "output_type": "stream",
     "text": [
      "(127037, 2)\n",
      "True\n"
     ]
    },
    {
     "data": {
      "text/html": [
       "<div>\n",
       "<style scoped>\n",
       "    .dataframe tbody tr th:only-of-type {\n",
       "        vertical-align: middle;\n",
       "    }\n",
       "\n",
       "    .dataframe tbody tr th {\n",
       "        vertical-align: top;\n",
       "    }\n",
       "\n",
       "    .dataframe thead th {\n",
       "        text-align: right;\n",
       "    }\n",
       "</style>\n",
       "<table border=\"1\" class=\"dataframe\">\n",
       "  <thead>\n",
       "    <tr style=\"text-align: right;\">\n",
       "      <th></th>\n",
       "      <th>id</th>\n",
       "      <th>Response</th>\n",
       "    </tr>\n",
       "  </thead>\n",
       "  <tbody>\n",
       "    <tr>\n",
       "      <th>0</th>\n",
       "      <td>381110</td>\n",
       "      <td>0</td>\n",
       "    </tr>\n",
       "    <tr>\n",
       "      <th>1</th>\n",
       "      <td>381111</td>\n",
       "      <td>0</td>\n",
       "    </tr>\n",
       "    <tr>\n",
       "      <th>2</th>\n",
       "      <td>381112</td>\n",
       "      <td>0</td>\n",
       "    </tr>\n",
       "    <tr>\n",
       "      <th>3</th>\n",
       "      <td>381113</td>\n",
       "      <td>0</td>\n",
       "    </tr>\n",
       "    <tr>\n",
       "      <th>4</th>\n",
       "      <td>381114</td>\n",
       "      <td>0</td>\n",
       "    </tr>\n",
       "  </tbody>\n",
       "</table>\n",
       "</div>"
      ],
      "text/plain": [
       "       id  Response\n",
       "0  381110         0\n",
       "1  381111         0\n",
       "2  381112         0\n",
       "3  381113         0\n",
       "4  381114         0"
      ]
     },
     "execution_count": 19,
     "metadata": {
      "tags": []
     },
     "output_type": "execute_result"
    }
   ],
   "source": [
    "y_test = pd.read_csv(r'mount/My Drive/health insurance/sample_submission.csv')\n",
    "print (y_test.shape)\n",
    "print (y_test.shape[0]==df2_test.shape[0])\n",
    "y_test.head(5)"
   ]
  },
  {
   "cell_type": "code",
   "execution_count": 20,
   "metadata": {
    "colab": {
     "base_uri": "https://localhost:8080/",
     "height": 52
    },
    "executionInfo": {
     "elapsed": 762,
     "status": "ok",
     "timestamp": 1603342277947,
     "user": {
      "displayName": "JOEL BRAGANZA",
      "photoUrl": "https://lh3.googleusercontent.com/a-/AOh14GiCqGBF0-DSW3pXhRCQksIWmS9Sn3pZ-f1QY6NjaA=s64",
      "userId": "05558119475177792340"
     },
     "user_tz": -330
    },
    "id": "VYiQsTDY7sBR",
    "outputId": "f210474c-e13a-42a6-e66a-bc90a2785822"
   },
   "outputs": [
    {
     "data": {
      "text/plain": [
       "0    127037\n",
       "Name: Response, dtype: int64"
      ]
     },
     "execution_count": 20,
     "metadata": {
      "tags": []
     },
     "output_type": "execute_result"
    }
   ],
   "source": [
    "y_test['Response'].value_counts()"
   ]
  },
  {
   "cell_type": "markdown",
   "metadata": {},
   "source": [
    "This means all the values are 0, so there shouldn't be any False-Negatives(FN) and True-Positive(TP) values in the Confusion-Matrix."
   ]
  },
  {
   "cell_type": "markdown",
   "metadata": {},
   "source": [
    "Because there isn't any positive classes to classify in the test data, we'll completely disregard the df_test & sample_submission data <br>\n",
    "We'll split the df_test2 data which has both class 0 and class 1 in minority and split them into train & test <br>\n",
    "then we'll oversample the training data to balance both class 0's & 1's equally and then train models over this oversampled data to test on the test data <br>\n",
    "So, let's prepare the data to train the models then. "
   ]
  },
  {
   "cell_type": "code",
   "execution_count": 25,
   "metadata": {
    "executionInfo": {
     "elapsed": 1008,
     "status": "ok",
     "timestamp": 1603342391978,
     "user": {
      "displayName": "JOEL BRAGANZA",
      "photoUrl": "https://lh3.googleusercontent.com/a-/AOh14GiCqGBF0-DSW3pXhRCQksIWmS9Sn3pZ-f1QY6NjaA=s64",
      "userId": "05558119475177792340"
     },
     "user_tz": -330
    },
    "id": "ji2UAVjj7sBd"
   },
   "outputs": [],
   "source": [
    "X = df2[numeric]\n",
    "y = df2['Response']"
   ]
  },
  {
   "cell_type": "code",
   "execution_count": 27,
   "metadata": {
    "colab": {
     "base_uri": "https://localhost:8080/",
     "height": 34
    },
    "executionInfo": {
     "elapsed": 955,
     "status": "ok",
     "timestamp": 1603342414103,
     "user": {
      "displayName": "JOEL BRAGANZA",
      "photoUrl": "https://lh3.googleusercontent.com/a-/AOh14GiCqGBF0-DSW3pXhRCQksIWmS9Sn3pZ-f1QY6NjaA=s64",
      "userId": "05558119475177792340"
     },
     "user_tz": -330
    },
    "id": "eVKbwdnbFeeb",
    "outputId": "c5740ff4-8054-4ca6-b6c3-aee12b37ac55"
   },
   "outputs": [
    {
     "name": "stdout",
     "output_type": "stream",
     "text": [
      "Counter({0: 100195, 1: 14138})\n"
     ]
    }
   ],
   "source": [
    "from sklearn.model_selection import train_test_split\n",
    "from collections import Counter\n",
    "\n",
    "X_train,X_test,y_train,y_test = train_test_split(X,y,test_size=0.3,random_state=42) # original df split\n",
    "print (Counter(y_test.values)) # "
   ]
  },
  {
   "cell_type": "markdown",
   "metadata": {},
   "source": [
    "We can see in the test-target values, 1 is low in quantity <br>\n",
    "Let's see that the models we make over the oversampled training data perform well on the test data or not"
   ]
  },
  {
   "cell_type": "code",
   "execution_count": 28,
   "metadata": {
    "colab": {
     "base_uri": "https://localhost:8080/",
     "height": 178
    },
    "executionInfo": {
     "elapsed": 1099,
     "status": "ok",
     "timestamp": 1603342428179,
     "user": {
      "displayName": "JOEL BRAGANZA",
      "photoUrl": "https://lh3.googleusercontent.com/a-/AOh14GiCqGBF0-DSW3pXhRCQksIWmS9Sn3pZ-f1QY6NjaA=s64",
      "userId": "05558119475177792340"
     },
     "user_tz": -330
    },
    "id": "ujnUqCDYFSbX",
    "outputId": "2d0cffe5-3cd6-4a6e-edbe-6e425f460431"
   },
   "outputs": [
    {
     "name": "stderr",
     "output_type": "stream",
     "text": [
      "/usr/local/lib/python3.6/dist-packages/sklearn/externals/six.py:31: FutureWarning: The module is deprecated in version 0.21 and will be removed in version 0.23 since we've dropped support for Python 2.7. Please rely on the official version of six (https://pypi.org/project/six/).\n",
      "  \"(https://pypi.org/project/six/).\", FutureWarning)\n",
      "/usr/local/lib/python3.6/dist-packages/sklearn/utils/deprecation.py:144: FutureWarning: The sklearn.neighbors.base module is  deprecated in version 0.22 and will be removed in version 0.24. The corresponding classes / functions should instead be imported from sklearn.neighbors. Anything that cannot be imported from sklearn.neighbors is now part of the private API.\n",
      "  warnings.warn(message, FutureWarning)\n",
      "/usr/local/lib/python3.6/dist-packages/sklearn/utils/deprecation.py:87: FutureWarning: Function safe_indexing is deprecated; safe_indexing is deprecated in version 0.22 and will be removed in version 0.24.\n",
      "  warnings.warn(msg, category=FutureWarning)\n"
     ]
    },
    {
     "name": "stdout",
     "output_type": "stream",
     "text": [
      "The number of classes before fit Counter({0: 234204, 1: 32572})\n",
      "The number of classes after fit Counter({0: 234204, 1: 234204})\n"
     ]
    }
   ],
   "source": [
    "from imblearn.over_sampling import RandomOverSampler\n",
    "os=RandomOverSampler(1)\n",
    "X_train_os,y_train_os = os.fit_sample(X_train,y_train)\n",
    "print(\"The number of classes before fit {}\".format(Counter(y_train)))\n",
    "print(\"The number of classes after fit {}\".format(Counter(y_train_os)))"
   ]
  },
  {
   "cell_type": "code",
   "execution_count": 29,
   "metadata": {
    "colab": {
     "base_uri": "https://localhost:8080/",
     "height": 70
    },
    "executionInfo": {
     "elapsed": 946,
     "status": "ok",
     "timestamp": 1603342437763,
     "user": {
      "displayName": "JOEL BRAGANZA",
      "photoUrl": "https://lh3.googleusercontent.com/a-/AOh14GiCqGBF0-DSW3pXhRCQksIWmS9Sn3pZ-f1QY6NjaA=s64",
      "userId": "05558119475177792340"
     },
     "user_tz": -330
    },
    "id": "mASeabAQFMHs",
    "outputId": "d8999bf8-7a95-4e5b-c6af-5eb0f4b56868"
   },
   "outputs": [
    {
     "name": "stdout",
     "output_type": "stream",
     "text": [
      "training data:  (468408, 3) (468408,)\n",
      "testing data:  (114333, 3) (114333,)\n",
      "Duplicates in the over-sampled data:  234106\n"
     ]
    }
   ],
   "source": [
    "print ('training data: ',X_train_os.shape, y_train_os.shape)\n",
    "print ('testing data: ',X_test.shape, y_test.shape)\n",
    "df_X = pd.DataFrame(data=X_train_os)\n",
    "print ('Duplicates in the over-sampled data: ',len(df_X[df_X.duplicated(keep='last')]))"
   ]
  },
  {
   "cell_type": "markdown",
   "metadata": {},
   "source": [
    "Let's define a single function that gives all the necessary error metrics."
   ]
  },
  {
   "cell_type": "code",
   "execution_count": 38,
   "metadata": {
    "executionInfo": {
     "elapsed": 993,
     "status": "ok",
     "timestamp": 1603342653345,
     "user": {
      "displayName": "JOEL BRAGANZA",
      "photoUrl": "https://lh3.googleusercontent.com/a-/AOh14GiCqGBF0-DSW3pXhRCQksIWmS9Sn3pZ-f1QY6NjaA=s64",
      "userId": "05558119475177792340"
     },
     "user_tz": -330
    },
    "id": "MVGsIovtFOQB"
   },
   "outputs": [],
   "source": [
    "from sklearn.metrics import roc_curve, roc_auc_score\n",
    "from sklearn.metrics import accuracy_score,precision_recall_fscore_support,classification_report, confusion_matrix\n",
    "\n",
    "def error_metric(y_true,y_preds):\n",
    "    CM = pd.crosstab(y_true,y_preds) # the confusion matrix\n",
    "    TN = CM.iloc[0,0]\n",
    "    FN = CM.iloc[1,0]\n",
    "    TP = CM.iloc[1,1]\n",
    "    FP = CM.iloc[0,1]\n",
    "    print (classification_report(y_true, y_preds))\n",
    "    print (confusion_matrix(y_true,y_preds))\n",
    "    print ('accuracy score: ',accuracy_score(y_true, y_preds)*100,'%') #check accuracy of model\n",
    "    print ('False-Negative-Rate: ',(FN*100)/(FN+TP),'%') #False Negative rate \n",
    "    print ('true-positive-rate: ',((TP)*100)/(TP+FN),'%')\n"
   ]
  },
  {
   "cell_type": "markdown",
   "metadata": {},
   "source": [
    "Define a function to plot the ROC/AUC"
   ]
  },
  {
   "cell_type": "code",
   "execution_count": 40,
   "metadata": {
    "executionInfo": {
     "elapsed": 954,
     "status": "ok",
     "timestamp": 1603342664840,
     "user": {
      "displayName": "JOEL BRAGANZA",
      "photoUrl": "https://lh3.googleusercontent.com/a-/AOh14GiCqGBF0-DSW3pXhRCQksIWmS9Sn3pZ-f1QY6NjaA=s64",
      "userId": "05558119475177792340"
     },
     "user_tz": -330
    },
    "id": "VJqjXRN4nO8B"
   },
   "outputs": [],
   "source": [
    "from matplotlib import pyplot as plt\n",
    "\n",
    "def plotRocAuc(fpr, tpr, thresholds,score):\n",
    "       \n",
    "    # Plot the \"dumb model\" line\n",
    "    plt.plot([0, 1], [0, 1], linestyle='--')\n",
    "    \n",
    "    # Plot the model line\n",
    "    plt.plot(fpr, tpr, marker='.')\n",
    "    plt.text(0.75, 0.25, \"AUC: \" + str(round(score,2)))\n",
    "    \n",
    "    # show the plot\n",
    "    plt.show()"
   ]
  },
  {
   "cell_type": "markdown",
   "metadata": {},
   "source": [
    "### Decision Tree Classifier"
   ]
  },
  {
   "cell_type": "code",
   "execution_count": 41,
   "metadata": {
    "colab": {
     "base_uri": "https://localhost:8080/",
     "height": 531
    },
    "executionInfo": {
     "elapsed": 4601,
     "status": "ok",
     "timestamp": 1603342672555,
     "user": {
      "displayName": "JOEL BRAGANZA",
      "photoUrl": "https://lh3.googleusercontent.com/a-/AOh14GiCqGBF0-DSW3pXhRCQksIWmS9Sn3pZ-f1QY6NjaA=s64",
      "userId": "05558119475177792340"
     },
     "user_tz": -330
    },
    "id": "bfKvAFN97sBv",
    "outputId": "324ca8d0-06f0-4fca-e101-fc6f0924ab77"
   },
   "outputs": [
    {
     "name": "stdout",
     "output_type": "stream",
     "text": [
      "              precision    recall  f1-score   support\n",
      "\n",
      "           0       0.88      0.85      0.87    100195\n",
      "           1       0.17      0.21      0.19     14138\n",
      "\n",
      "    accuracy                           0.77    114333\n",
      "   macro avg       0.53      0.53      0.53    114333\n",
      "weighted avg       0.80      0.77      0.78    114333\n",
      "\n",
      "[[85407 14788]\n",
      " [11135  3003]]\n",
      "accuracy score:  77.32675605468238 %\n",
      "False-Negative-Rate:  78.7593719055029 %\n",
      "true-positive-rate:  21.2406280944971 %\n",
      "None\n"
     ]
    },
    {
     "data": {
      "image/png": "[encoded data removed]",
      "text/plain": [
       "<Figure size 432x288 with 1 Axes>"
      ]
     },
     "metadata": {
      "needs_background": "light",
      "tags": []
     },
     "output_type": "display_data"
    }
   ],
   "source": [
    "from sklearn.tree import DecisionTreeClassifier\n",
    "DT_model = DecisionTreeClassifier(criterion='entropy').fit(X_train_os,y_train_os)\n",
    "DT_preds = DT_model.predict_proba(X_test)\n",
    "print(error_metric(y_test,np.round(DT_preds[:,1])))\n",
    "DT_fpr, DT_tpr, DT_thresholds = roc_curve(y_test, DT_preds[:,1])\n",
    "DT_score = roc_auc_score(y_test, DT_preds[:,1])\n",
    "plotRocAuc(DT_fpr, DT_tpr, DT_thresholds,DT_score)"
   ]
  },
  {
   "cell_type": "markdown",
   "metadata": {},
   "source": [
    "### RandomForest Classifier"
   ]
  },
  {
   "cell_type": "code",
   "execution_count": 42,
   "metadata": {
    "colab": {
     "base_uri": "https://localhost:8080/",
     "height": 513
    },
    "executionInfo": {
     "elapsed": 74113,
     "status": "ok",
     "timestamp": 1603342772161,
     "user": {
      "displayName": "JOEL BRAGANZA",
      "photoUrl": "https://lh3.googleusercontent.com/a-/AOh14GiCqGBF0-DSW3pXhRCQksIWmS9Sn3pZ-f1QY6NjaA=s64",
      "userId": "05558119475177792340"
     },
     "user_tz": -330
    },
    "id": "G3VVa2U07sCB",
    "outputId": "434b1d57-8889-41ae-a156-f0942c691fbd"
   },
   "outputs": [
    {
     "name": "stdout",
     "output_type": "stream",
     "text": [
      "              precision    recall  f1-score   support\n",
      "\n",
      "           0       0.88      0.89      0.88    100195\n",
      "           1       0.18      0.17      0.17     14138\n",
      "\n",
      "    accuracy                           0.80    114333\n",
      "   macro avg       0.53      0.53      0.53    114333\n",
      "weighted avg       0.80      0.80      0.80    114333\n",
      "\n",
      "[[88824 11371]\n",
      " [11716  2422]]\n",
      "accuracy score:  79.80722975868734 %\n",
      "False-Negative-Rate:  82.86886405432169 %\n",
      "true-positive-rate:  17.131135945678313 %\n"
     ]
    },
    {
     "data": {
      "image/png": "[encoded data removed]",
      "text/plain": [
       "<Figure size 432x288 with 1 Axes>"
      ]
     },
     "metadata": {
      "needs_background": "light",
      "tags": []
     },
     "output_type": "display_data"
    }
   ],
   "source": [
    "from sklearn.ensemble import RandomForestClassifier\n",
    "RF_model = RandomForestClassifier(n_estimators=100).fit(X_train_os,y_train_os)\n",
    "RF_preds = RF_model.predict_proba(X_test)\n",
    "error_metric(y_test,np.round(RF_preds[:,1]))\n",
    "RF_fpr,RF_tpr,RF_thresholds = roc_curve(y_test,RF_preds[:,1])\n",
    "RF_score = roc_auc_score(y_test, RF_preds[:,1])\n",
    "plotRocAuc(RF_fpr, RF_tpr, RF_thresholds, RF_score)"
   ]
  },
  {
   "cell_type": "markdown",
   "metadata": {},
   "source": [
    "### Logistic Regression"
   ]
  },
  {
   "cell_type": "code",
   "execution_count": 43,
   "metadata": {
    "colab": {
     "base_uri": "https://localhost:8080/",
     "height": 531
    },
    "executionInfo": {
     "elapsed": 2103,
     "status": "ok",
     "timestamp": 1603342844796,
     "user": {
      "displayName": "JOEL BRAGANZA",
      "photoUrl": "https://lh3.googleusercontent.com/a-/AOh14GiCqGBF0-DSW3pXhRCQksIWmS9Sn3pZ-f1QY6NjaA=s64",
      "userId": "05558119475177792340"
     },
     "user_tz": -330
    },
    "id": "SwZ-lBcC7sCa",
    "outputId": "806f244d-41f4-484d-ba50-87c7c564c179"
   },
   "outputs": [
    {
     "name": "stdout",
     "output_type": "stream",
     "text": [
      "              precision    recall  f1-score   support\n",
      "\n",
      "           0       0.91      0.60      0.72    100195\n",
      "           1       0.17      0.59      0.27     14138\n",
      "\n",
      "    accuracy                           0.60    114333\n",
      "   macro avg       0.54      0.59      0.49    114333\n",
      "weighted avg       0.82      0.60      0.67    114333\n",
      "\n",
      "[[60144 40051]\n",
      " [ 5837  8301]]\n",
      "accuracy score:  59.86460601925954 %\n",
      "False-Negative-Rate:  41.28589616636017 %\n",
      "true-positive-rate:  58.71410383363983 %\n",
      "None\n"
     ]
    },
    {
     "data": {
      "image/png": "[encoded data removed]",
      "text/plain": [
       "<Figure size 432x288 with 1 Axes>"
      ]
     },
     "metadata": {
      "needs_background": "light",
      "tags": []
     },
     "output_type": "display_data"
    }
   ],
   "source": [
    "\n",
    "from sklearn.linear_model import LogisticRegression\n",
    "LR_model = LogisticRegression().fit(X_train_os, y_train_os) \n",
    "LR_preds = LR_model.predict_proba(X_test)\n",
    "print (error_metric(y_test,np.round((LR_preds)[:,1])))\n",
    "LR_fpr,LR_tpr,LR_thresholds = roc_curve(y_test,LR_preds[:,1])\n",
    "LR_score = roc_auc_score(y_test, LR_preds[:,1])\n",
    "plotRocAuc(LR_fpr, LR_tpr, LR_thresholds,LR_score)\n"
   ]
  },
  {
   "cell_type": "markdown",
   "metadata": {},
   "source": [
    "### Naive Bayes"
   ]
  },
  {
   "cell_type": "code",
   "execution_count": 44,
   "metadata": {
    "colab": {
     "base_uri": "https://localhost:8080/",
     "height": 531
    },
    "executionInfo": {
     "elapsed": 1854,
     "status": "ok",
     "timestamp": 1603342855250,
     "user": {
      "displayName": "JOEL BRAGANZA",
      "photoUrl": "https://lh3.googleusercontent.com/a-/AOh14GiCqGBF0-DSW3pXhRCQksIWmS9Sn3pZ-f1QY6NjaA=s64",
      "userId": "05558119475177792340"
     },
     "user_tz": -330
    },
    "id": "BbiLPKjT7sCj",
    "outputId": "eda85803-9288-4ca5-8c15-b12d292fed39"
   },
   "outputs": [
    {
     "name": "stdout",
     "output_type": "stream",
     "text": [
      "              precision    recall  f1-score   support\n",
      "\n",
      "           0       0.94      0.57      0.71    100195\n",
      "           1       0.19      0.73      0.30     14138\n",
      "\n",
      "    accuracy                           0.59    114333\n",
      "   macro avg       0.56      0.65      0.51    114333\n",
      "weighted avg       0.84      0.59      0.66    114333\n",
      "\n",
      "[[57010 43185]\n",
      " [ 3886 10252]]\n",
      "accuracy score:  58.82990912509949 %\n",
      "False-Negative-Rate:  27.486207384354223 %\n",
      "true-positive-rate:  72.51379261564578 %\n",
      "None\n"
     ]
    },
    {
     "data": {
      "image/png": "[encoded data removed]",
      "text/plain": [
       "<Figure size 432x288 with 1 Axes>"
      ]
     },
     "metadata": {
      "needs_background": "light",
      "tags": []
     },
     "output_type": "display_data"
    }
   ],
   "source": [
    "from sklearn.naive_bayes import GaussianNB\n",
    "NB_model = GaussianNB().fit(X_train_os,y_train_os)\n",
    "NB_preds = NB_model.predict_proba(X_test)\n",
    "print (error_metric(y_test,np.round((NB_preds)[:,1])))\n",
    "NB_fpr,NB_tpr,NB_thresholds = roc_curve(y_test,NB_preds[:,1])\n",
    "NB_score = roc_auc_score(y_test, NB_preds[:,1])\n",
    "plotRocAuc(NB_fpr, NB_tpr, NB_thresholds, NB_score)"
   ]
  },
  {
   "cell_type": "markdown",
   "metadata": {},
   "source": [
    "### AdaBoost Classifier"
   ]
  },
  {
   "cell_type": "code",
   "execution_count": 45,
   "metadata": {
    "colab": {
     "base_uri": "https://localhost:8080/",
     "height": 513
    },
    "executionInfo": {
     "elapsed": 13642,
     "status": "ok",
     "timestamp": 1603342875872,
     "user": {
      "displayName": "JOEL BRAGANZA",
      "photoUrl": "https://lh3.googleusercontent.com/a-/AOh14GiCqGBF0-DSW3pXhRCQksIWmS9Sn3pZ-f1QY6NjaA=s64",
      "userId": "05558119475177792340"
     },
     "user_tz": -330
    },
    "id": "asyxad3Q7sCt",
    "outputId": "0d7556b4-10b1-4d13-9a0f-7152ee6d483a"
   },
   "outputs": [
    {
     "name": "stdout",
     "output_type": "stream",
     "text": [
      "              precision    recall  f1-score   support\n",
      "\n",
      "           0       0.95      0.55      0.70    100195\n",
      "           1       0.20      0.78      0.31     14138\n",
      "\n",
      "    accuracy                           0.58    114333\n",
      "   macro avg       0.57      0.67      0.51    114333\n",
      "weighted avg       0.85      0.58      0.65    114333\n",
      "\n",
      "[[55161 45034]\n",
      " [ 3090 11048]]\n",
      "accuracy score:  57.908915186341645 %\n",
      "False-Negative-Rate:  21.855990946385628 %\n",
      "true-positive-rate:  78.14400905361437 %\n"
     ]
    },
    {
     "data": {
      "image/png": "[encoded data removed]",
      "text/plain": [
       "<Figure size 432x288 with 1 Axes>"
      ]
     },
     "metadata": {
      "needs_background": "light",
      "tags": []
     },
     "output_type": "display_data"
    }
   ],
   "source": [
    "from sklearn.ensemble import AdaBoostClassifier\n",
    "ada_classifier=AdaBoostClassifier().fit(X_train_os, y_train_os)\n",
    "ADA_preds = ada_classifier.predict_proba(X_test)\n",
    "ADA_fpr, ADA_tpr, ADA_thresholds = roc_curve(y_test, ADA_preds[:,1])\n",
    "ADA_score = roc_auc_score(y_test, ADA_preds[:,1])\n",
    "error_metric(y_test,np.round(ADA_preds[:,1]))\n",
    "plotRocAuc(ADA_fpr, ADA_tpr, ADA_thresholds, ADA_score)"
   ]
  },
  {
   "cell_type": "markdown",
   "metadata": {},
   "source": [
    "### Deep Learning"
   ]
  },
  {
   "cell_type": "code",
   "execution_count": 46,
   "metadata": {
    "executionInfo": {
     "elapsed": 2288,
     "status": "ok",
     "timestamp": 1603343041816,
     "user": {
      "displayName": "JOEL BRAGANZA",
      "photoUrl": "https://lh3.googleusercontent.com/a-/AOh14GiCqGBF0-DSW3pXhRCQksIWmS9Sn3pZ-f1QY6NjaA=s64",
      "userId": "05558119475177792340"
     },
     "user_tz": -330
    },
    "id": "vEtjd4D8r633"
   },
   "outputs": [],
   "source": [
    "# let's apply deep-learning using Keras\n",
    "from keras import models\n",
    "from keras import layers\n",
    "\n",
    "def build_model():\n",
    "    model = models.Sequential()\n",
    "    model.add(layers.Dense(64, activation='sigmoid', input_shape=(X_train_os.shape[1],)))\n",
    "    model.add(layers.Dense(64, activation='sigmoid'))\n",
    "    model.add(layers.Dense(1, activation='sigmoid')) # because of multi-class labels\n",
    "    # defining the optimizer and loss and accuracy parameters\n",
    "    model.compile(optimizer='rmsprop',loss='binary_crossentropy',metrics=['accuracy'])\n",
    "    return model"
   ]
  },
  {
   "cell_type": "code",
   "execution_count": 47,
   "metadata": {
    "colab": {
     "base_uri": "https://localhost:8080/",
     "height": 230
    },
    "executionInfo": {
     "elapsed": 94104,
     "status": "ok",
     "timestamp": 1603343138447,
     "user": {
      "displayName": "JOEL BRAGANZA",
      "photoUrl": "https://lh3.googleusercontent.com/a-/AOh14GiCqGBF0-DSW3pXhRCQksIWmS9Sn3pZ-f1QY6NjaA=s64",
      "userId": "05558119475177792340"
     },
     "user_tz": -330
    },
    "id": "PoKQFAhusKgf",
    "outputId": "005debdc-465b-4889-b2fb-deb9ca1a5cd3"
   },
   "outputs": [
    {
     "name": "stdout",
     "output_type": "stream",
     "text": [
      "(327885, 3) (327885,)\n",
      "(140523, 3) (140523,)\n",
      "Epoch 1/5\n",
      "5124/5124 [==============================] - 17s 3ms/step - loss: 0.6742 - accuracy: 0.5928 - val_loss: 0.6557 - val_accuracy: 0.6287\n",
      "Epoch 2/5\n",
      "5124/5124 [==============================] - 17s 3ms/step - loss: 0.6303 - accuracy: 0.6581 - val_loss: 0.6245 - val_accuracy: 0.6651\n",
      "Epoch 3/5\n",
      "5124/5124 [==============================] - 17s 3ms/step - loss: 0.6233 - accuracy: 0.6669 - val_loss: 0.6325 - val_accuracy: 0.6631\n",
      "Epoch 4/5\n",
      "5124/5124 [==============================] - 18s 3ms/step - loss: 0.6227 - accuracy: 0.6669 - val_loss: 0.6242 - val_accuracy: 0.6618\n",
      "Epoch 5/5\n",
      "5124/5124 [==============================] - 17s 3ms/step - loss: 0.6222 - accuracy: 0.6674 - val_loss: 0.6227 - val_accuracy: 0.6653\n"
     ]
    }
   ],
   "source": [
    "# testing how the individual model with sampLe parameters scores on test data\n",
    "X_train_os2, x_val, y_train_os2, y_val = train_test_split(X_train_os,y_train_os,train_size=0.7)\n",
    "print (X_train_os2.shape, y_train_os2.shape)\n",
    "print (x_val.shape,y_val.shape)\n",
    "model = build_model()\n",
    "history = model.fit(X_train_os2, y_train_os2, batch_size=64, epochs=5, validation_data=(x_val, y_val))"
   ]
  },
  {
   "cell_type": "code",
   "execution_count": 48,
   "metadata": {
    "colab": {
     "base_uri": "https://localhost:8080/",
     "height": 936
    },
    "executionInfo": {
     "elapsed": 11736,
     "status": "ok",
     "timestamp": 1603343160271,
     "user": {
      "displayName": "JOEL BRAGANZA",
      "photoUrl": "https://lh3.googleusercontent.com/a-/AOh14GiCqGBF0-DSW3pXhRCQksIWmS9Sn3pZ-f1QY6NjaA=s64",
      "userId": "05558119475177792340"
     },
     "user_tz": -330
    },
    "id": "xSEecl3FsO9V",
    "outputId": "24f41c3f-6334-43fb-f554-4da0d964c90c"
   },
   "outputs": [
    {
     "name": "stdout",
     "output_type": "stream",
     "text": [
      "WARNING:tensorflow:From <ipython-input-48-857fcadcf9ef>:1: Sequential.predict_proba (from tensorflow.python.keras.engine.sequential) is deprecated and will be removed after 2021-01-01.\n",
      "Instructions for updating:\n",
      "Please use `model.predict()` instead.\n",
      "(114333, 1)\n",
      "3573/3573 [==============================] - 7s 2ms/step - loss: 0.6229 - accuracy: 0.6003\n",
      "loss :  0.6228529810905457\n",
      "accuracy :  0.600342869758606\n"
     ]
    },
    {
     "data": {
      "image/png": "[encoded data removed]",
      "text/plain": [
       "<Figure size 432x288 with 1 Axes>"
      ]
     },
     "metadata": {
      "needs_background": "light",
      "tags": []
     },
     "output_type": "display_data"
    },
    {
     "name": "stdout",
     "output_type": "stream",
     "text": [
      "              precision    recall  f1-score   support\n",
      "\n",
      "           0       0.94      0.58      0.72    100195\n",
      "           1       0.20      0.76      0.32     14138\n",
      "\n",
      "    accuracy                           0.60    114333\n",
      "   macro avg       0.57      0.67      0.52    114333\n",
      "weighted avg       0.85      0.60      0.67    114333\n",
      "\n",
      "[[57933 42262]\n",
      " [ 3432 10706]]\n",
      "accuracy score:  60.034285814244356 %\n",
      "False-Negative-Rate:  24.275003536568114 %\n",
      "true-positive-rate:  75.72499646343188 %\n"
     ]
    },
    {
     "data": {
      "image/png": "[encoded data removed]",
      "text/plain": [
       "<Figure size 432x288 with 1 Axes>"
      ]
     },
     "metadata": {
      "needs_background": "light",
      "tags": []
     },
     "output_type": "display_data"
    }
   ],
   "source": [
    "DL_preds = model.predict_proba(X_test)\n",
    "print (DL_preds.shape)\n",
    "test_results = model.evaluate(X_test,y_test)\n",
    "for i in range(len(test_results)):\n",
    "    print (model.metrics_names[i],': ',test_results[i])\n",
    "\n",
    "DL_preds2 = [round(i[0]) for i in DL_preds]\n",
    "\n",
    "\n",
    "import matplotlib.pyplot as plt\n",
    "loss = history.history['loss']\n",
    "val_loss = history.history['val_loss']\n",
    "epochs = range(1, len(loss) + 1)\n",
    "plt.plot(epochs, loss, 'bo', label='Training loss')\n",
    "plt.plot(epochs, val_loss, 'b', label='Validation loss')\n",
    "plt.title('Training and validation loss')\n",
    "plt.xlabel('Epochs')\n",
    "plt.ylabel('Loss')\n",
    "plt.legend()\n",
    "plt.show()\n",
    "\n",
    "DL_fpr, DL_tpr, DL_thresholds = roc_curve(y_test, DL_preds)\n",
    "DL_score = roc_auc_score(y_test, DL_preds)\n",
    "error_metric(y_test,np.array(DL_preds2))\n",
    "plotRocAuc(DL_fpr, DL_tpr, DL_thresholds, DL_score)"
   ]
  },
  {
   "cell_type": "markdown",
   "metadata": {
    "id": "RgDs-CALMNpZ"
   },
   "source": [
    " **CONCLUSION**\n",
    " "
   ]
  },
  {
   "cell_type": "markdown",
   "metadata": {
    "id": "MEdaZQtWMX25"
   },
   "source": [
    "*ADA Boost has the following metrics*\n",
    "accuracy score:  57.90 %\n",
    "False-Negative-Rate:  21.85 %\n",
    "true-positive-rate:  78.14 %\n",
    "\n",
    "*DNN has the folowing metrics*\n",
    "accuracy score:  60.03 %\n",
    "False-Negative-Rate:  24.27 %\n",
    "true-positive-rate:  75.72 %\n",
    "\n",
    "*We are focused on reducing False-Negatives because we don't want to miss out on potential health insurance customers, ADA-Boost has lowest FPR & a decent TPR though comparatively lesses accuracy score than DNN.\n",
    "My decsion is to go with ADA-Boost model* "
   ]
  }
 ],
 "metadata": {
  "accelerator": "GPU",
  "colab": {
   "collapsed_sections": [],
   "name": "health-insurance-cross-sell-prediction-checkpoint.ipynb",
   "provenance": []
  },
  "kernelspec": {
   "display_name": "Python 3",
   "language": "python",
   "name": "python3"
  },
  "language_info": {
   "codemirror_mode": {
    "name": "ipython",
    "version": 3
   },
   "file_extension": ".py",
   "mimetype": "text/x-python",
   "name": "python",
   "nbconvert_exporter": "python",
   "pygments_lexer": "ipython3",
   "version": "3.7.2"
  }
 },
 "nbformat": 4,
 "nbformat_minor": 1
}
